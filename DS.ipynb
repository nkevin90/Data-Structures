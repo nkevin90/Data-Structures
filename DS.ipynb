{
  "nbformat": 4,
  "nbformat_minor": 0,
  "metadata": {
    "colab": {
      "name": "Untitled4.ipynb",
      "provenance": [],
      "authorship_tag": "ABX9TyMGVpX9pL7TZIGa9xb/k/Jq",
      "include_colab_link": true
    },
    "kernelspec": {
      "name": "python3",
      "display_name": "Python 3"
    },
    "language_info": {
      "name": "python"
    }
  },
  "cells": [
    {
      "cell_type": "markdown",
      "metadata": {
        "id": "view-in-github",
        "colab_type": "text"
      },
      "source": [
        "<a href=\"https://colab.research.google.com/github/nkevin90/Data-Structures/blob/main/DS.ipynb\" target=\"_parent\"><img src=\"https://colab.research.google.com/assets/colab-badge.svg\" alt=\"Open In Colab\"/></a>"
      ]
    },
    {
      "cell_type": "markdown",
      "source": [
        "# Prompt a user to input their age and nationality tell them whether they can vote or not"
      ],
      "metadata": {
        "id": "MuUyY2fpf2R_"
      }
    },
    {
      "cell_type": "code",
      "execution_count": null,
      "metadata": {
        "colab": {
          "base_uri": "https://localhost:8080/"
        },
        "id": "nNybp1PCYfu7",
        "outputId": "214b6d1e-dc95-40af-c5f6-b1a77690bdd7"
      },
      "outputs": [
        {
          "output_type": "stream",
          "name": "stdout",
          "text": [
            "Kindly Enter your age 18\n",
            "Enter your nationality kenyan\n",
            "Youre Eligible to vote\n"
          ]
        }
      ],
      "source": [
        "#Variables declaration\n",
        "Age=int(input('Kindly Enter your age '))\n",
        "Nationality=str(input('Enter your nationality ').lower())\n",
        "#conditial if else statement\n",
        "if Age>=18 and Nationality ==\"kenyan\":\n",
        "  #output to be printed if the user is eligible to vote\n",
        "  print('Youre Eligible to vote')\n",
        "else:\n",
        "  #output to be shown if the user age is less than 18 years and is not of the kenyan nationality\n",
        "  print('You do not meet all the requirements needed for one to vote')"
      ]
    },
    {
      "cell_type": "markdown",
      "source": [
        ""
      ],
      "metadata": {
        "id": "0JGseGYnfdWt"
      }
    },
    {
      "cell_type": "markdown",
      "source": [
        "# Data structures Examples"
      ],
      "metadata": {
        "id": "p6sju5J-g6Jj"
      }
    },
    {
      "cell_type": "markdown",
      "source": [
        "### Lists"
      ],
      "metadata": {
        "id": "fju3UQy9rcbl"
      }
    },
    {
      "cell_type": "code",
      "source": [
        "#Lists \n",
        "Fruits=['Pineapples','Oranges','Bananas','Grapes', 'Apples']\n",
        "print('lists of fruits: ',Fruits)\n",
        "Fruits.append('Mangoes')\n",
        "print(Fruits)\n",
        "print(type(Fruits))\n"
      ],
      "metadata": {
        "colab": {
          "base_uri": "https://localhost:8080/"
        },
        "id": "4RcWsmThhGA9",
        "outputId": "b999d06f-db2b-4b66-ea08-9e0759261605"
      },
      "execution_count": null,
      "outputs": [
        {
          "output_type": "stream",
          "name": "stdout",
          "text": [
            "lists of fruits:  ['Pineapples', 'Oranges', 'Bananas', 'Grapes', 'Apples']\n",
            "['Pineapples', 'Oranges', 'Bananas', 'Grapes', 'Apples', 'Mangoes']\n",
            "<class 'list'>\n"
          ]
        }
      ]
    },
    {
      "cell_type": "markdown",
      "source": [
        "### Sets"
      ],
      "metadata": {
        "id": "5fzdJ090rG20"
      }
    },
    {
      "cell_type": "code",
      "source": [
        "#Sets\n",
        "a=set([1,2,3,4,5,6,7])\n",
        "b=set([2,4,5,6,7,9,10,15,20])\n",
        "print(b.union(a))\n",
        "print(type(a))"
      ],
      "metadata": {
        "colab": {
          "base_uri": "https://localhost:8080/"
        },
        "id": "yqThG7YcqzNM",
        "outputId": "dbf388da-c40f-4a8a-b327-ff2520635ff1"
      },
      "execution_count": null,
      "outputs": [
        {
          "output_type": "stream",
          "name": "stdout",
          "text": [
            "{1, 2, 3, 4, 5, 6, 7, 9, 10, 15, 20}\n",
            "<class 'set'>\n"
          ]
        }
      ]
    },
    {
      "cell_type": "markdown",
      "source": [
        "### Dictionaries"
      ],
      "metadata": {
        "id": "nW2G7EXQrXQX"
      }
    },
    {
      "cell_type": "code",
      "source": [
        "#Dictionaries\n",
        "FamilyMembers={'Name':'Kelvin Njenga','Age':22,'Location':'Nairobi','School':'Kabarak University'}\n",
        "print('Dictionaries :',FamilyMembers)\n",
        "type(FamilyMembers)\n",
        "#getting location\n",
        "print(FamilyMembers.get('Location'))\n",
        "Check=FamilyMembers.keys()\n",
        "print(Check)\n",
        "FamilyMembers.update({'Nationality':'Kenyan'})\n",
        "print(FamilyMembers)\n"
      ],
      "metadata": {
        "colab": {
          "base_uri": "https://localhost:8080/"
        },
        "id": "4UiFg_SaqwO4",
        "outputId": "63dcf938-edd6-4559-dc2c-e7c7a64c7706"
      },
      "execution_count": null,
      "outputs": [
        {
          "output_type": "stream",
          "name": "stdout",
          "text": [
            "Dictionaries : {'Name': 'Kelvin Njenga', 'Age': 22, 'Location': 'Nairobi', 'School': 'Kabarak University'}\n",
            "Nairobi\n",
            "dict_keys(['Name', 'Age', 'Location', 'School'])\n",
            "{'Name': 'Kelvin Njenga', 'Age': 22, 'Location': 'Nairobi', 'School': 'Kabarak University', 'Nationality': 'Kenyan'}\n"
          ]
        }
      ]
    },
    {
      "cell_type": "markdown",
      "source": [
        "### Tuples"
      ],
      "metadata": {
        "id": "dfIEIRR2rNMq"
      }
    },
    {
      "cell_type": "code",
      "source": [
        "#Tuples\n",
        "Cars=('Benz','Toyota','Range Rover','Subaru','Audi','Volkswagon')\n",
        "print('Tuples: ',Cars)\n",
        "print(type(Cars))"
      ],
      "metadata": {
        "colab": {
          "base_uri": "https://localhost:8080/"
        },
        "id": "qZnTwTa4qlMB",
        "outputId": "5b4f3878-0f45-4807-b834-4c207bdc3902"
      },
      "execution_count": null,
      "outputs": [
        {
          "output_type": "stream",
          "name": "stdout",
          "text": [
            "Tuples:  ('Benz', 'Toyota', 'Range Rover', 'Subaru', 'Audi', 'Volkswagon')\n",
            "<class 'tuple'>\n"
          ]
        }
      ]
    },
    {
      "cell_type": "code",
      "source": [
        "Address='njengakelvin71@gmail.com'\n",
        "username, domain= Address.split('@')\n",
        "print('Username: ',username)\n",
        "print('Domain: ',domain)"
      ],
      "metadata": {
        "colab": {
          "base_uri": "https://localhost:8080/"
        },
        "id": "ZF2GPvN0qsIz",
        "outputId": "544b9afe-6dc7-45b2-94ee-5d8800365170"
      },
      "execution_count": 92,
      "outputs": [
        {
          "output_type": "stream",
          "name": "stdout",
          "text": [
            "Username:  njengakelvin71\n",
            "Domain:  gmail.com\n"
          ]
        }
      ]
    }
  ]
}